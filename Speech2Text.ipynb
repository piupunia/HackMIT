{
 "cells": [
  {
   "cell_type": "code",
   "execution_count": 151,
   "metadata": {
    "collapsed": true
   },
   "outputs": [],
   "source": [
    "import requests\n",
    "import json\n",
    "import time\n",
    "import pandas as pd\n",
    "import os"
   ]
  },
  {
   "cell_type": "code",
   "execution_count": 127,
   "metadata": {
    "collapsed": true
   },
   "outputs": [],
   "source": [
    "API_KEY = \"Bearer <key>\"\n",
    "HEADERS = {'Authorization': API_KEY}"
   ]
  },
  {
   "cell_type": "code",
   "execution_count": null,
   "metadata": {
    "collapsed": true
   },
   "outputs": [],
   "source": []
  },
  {
   "cell_type": "code",
   "execution_count": 128,
   "metadata": {
    "collapsed": true
   },
   "outputs": [],
   "source": [
    "def submit_job_file(file):\n",
    "    url = \"https://api.rev.ai/revspeech/v1beta/jobs\"\n",
    "    files = { 'media': (file, open(file, 'rb'), 'audio/mp3') }\n",
    "    request = requests.post(url, headers=HEADERS, files=files)\n",
    "    print(request.status_code)\n",
    "    if request.status_code != 200:\n",
    "        \n",
    "        raise Exception\n",
    "\n",
    "    response_body = request.json()\n",
    "    return response_body['id']"
   ]
  },
  {
   "cell_type": "code",
   "execution_count": 129,
   "metadata": {
    "collapsed": true
   },
   "outputs": [],
   "source": [
    "def view_job(id=59594172):\n",
    "    url = f'https://api.rev.ai/revspeech/v1beta/jobs/{id}'\n",
    "    request = requests.get(url, headers=HEADERS)\n",
    "\n",
    "    if request.status_code != 200:\n",
    "        raise Exception\n",
    "\n",
    "    response_body = request.json()\n",
    "    return response_body"
   ]
  },
  {
   "cell_type": "code",
   "execution_count": 130,
   "metadata": {
    "collapsed": true
   },
   "outputs": [],
   "source": [
    "def get_transcript(id='59594172'):\n",
    "    url = f'https://api.rev.ai/revspeech/v1beta/jobs/{id}/transcript'\n",
    "    headers = HEADERS.copy()\n",
    "    headers['Accept'] = 'application/vnd.rev.transcript.v1.0+json'\n",
    "    request = requests.get(url, headers=headers)\n",
    "\n",
    "    if request.status_code != 200:\n",
    "        raise\n",
    "\n",
    "    response_body = request.json()\n",
    "    return response_body"
   ]
  },
  {
   "cell_type": "code",
   "execution_count": 131,
   "metadata": {
    "collapsed": true
   },
   "outputs": [],
   "source": [
    "def test_workflow_with_url(url):\n",
    "    print (\"Submitting job with URL\")\n",
    "    id = submit_job_url(url)\n",
    "    print (\"Job created\")\n",
    "    view_job(id)\n",
    "\n",
    "    while True:\n",
    "        job = view_job(id)\n",
    "        status = job[\"status\"]\n",
    "        print (f'Checking job transcription status: { status }')\n",
    "        if status == \"transcribed\":\n",
    "            break\n",
    "        if status == \"failed\":\n",
    "            raise\n",
    "\n",
    "        print (\"Trying in another 30 seconds\")\n",
    "        time.sleep(30)\n",
    "\n",
    "    return get_transcript(id)"
   ]
  },
  {
   "cell_type": "code",
   "execution_count": 132,
   "metadata": {
    "collapsed": true
   },
   "outputs": [],
   "source": [
    "def test_workflow_with_file(file):\n",
    "    print (\"Submitting job with file\")\n",
    "    id = submit_job_file(file)\n",
    "    print (\"Job created\")\n",
    "    view_job(id)\n",
    "\n",
    "    while True:\n",
    "        job = view_job(id)\n",
    "        status = job[\"status\"]\n",
    "        print (f'Checking job transcription status: { status }')\n",
    "        if status == \"transcribed\":\n",
    "            break\n",
    "        if status == \"failed\":\n",
    "            raise\n",
    "\n",
    "        print (\"Trying in another 30 seconds\")\n",
    "        time.sleep(30)\n",
    "\n",
    "    return get_transcript(id)\n",
    "\n"
   ]
  },
  {
   "cell_type": "code",
   "execution_count": 133,
   "metadata": {},
   "outputs": [
    {
     "name": "stdout",
     "output_type": "stream",
     "text": [
      "Submitting job with file\n",
      "200\n",
      "Job created\n",
      "Checking job transcription status: in_progress\n",
      "Trying in another 30 seconds\n",
      "Checking job transcription status: in_progress\n",
      "Trying in another 30 seconds\n",
      "Checking job transcription status: in_progress\n",
      "Trying in another 30 seconds\n",
      "Checking job transcription status: in_progress\n",
      "Trying in another 30 seconds\n",
      "Checking job transcription status: in_progress\n",
      "Trying in another 30 seconds\n",
      "Checking job transcription status: in_progress\n",
      "Trying in another 30 seconds\n",
      "Checking job transcription status: in_progress\n",
      "Trying in another 30 seconds\n",
      "Checking job transcription status: in_progress\n",
      "Trying in another 30 seconds\n",
      "Checking job transcription status: transcribed\n"
     ]
    }
   ],
   "source": [
    "def main():\n",
    "    out_dict = {}\n",
    "    # Testing with URL\n",
    "    # media_url = \"https://support.rev.com/hc/en-us/article_attachments/200043975/FTC_Sample_1_-_Single.mp3\"\n",
    "    # test_workflow_with_url(media_url)\n",
    "\n",
    "    # Testing with file upload\n",
    "    file = \"/Users/piupunia/Downloads/sean_voice.mp3\"\n",
    "    out_dict = test_workflow_with_file(file)\n",
    "\n",
    "if __name__ == \"__main__\":\n",
    "    main()"
   ]
  },
  {
   "cell_type": "code",
   "execution_count": 134,
   "metadata": {},
   "outputs": [
    {
     "name": "stdout",
     "output_type": "stream",
     "text": [
      "{'monologues': [{'speaker': 0, 'elements': [{'type': 'text', 'value': 'Sean maloney', 'ts': 1.29, 'end_ts': 2.58, 'confidence': 1.0}, {'type': 'punct', 'value': '.'}]}]}\n"
     ]
    }
   ],
   "source": [
    "print(out_dict)\n"
   ]
  },
  {
   "cell_type": "code",
   "execution_count": 135,
   "metadata": {},
   "outputs": [
    {
     "name": "stdout",
     "output_type": "stream",
     "text": [
      "Submitting job with file\n",
      "200\n",
      "Job created\n",
      "Checking job transcription status: in_progress\n",
      "Trying in another 30 seconds\n",
      "Checking job transcription status: transcribed\n"
     ]
    }
   ],
   "source": [
    "file = \"/Users/piupunia/Downloads/sean_voice.mp3\"\n",
    "out_dict = test_workflow_with_file(file)"
   ]
  },
  {
   "cell_type": "code",
   "execution_count": 136,
   "metadata": {
    "collapsed": true
   },
   "outputs": [],
   "source": [
    "mono = out_dict['monologues']"
   ]
  },
  {
   "cell_type": "code",
   "execution_count": 137,
   "metadata": {},
   "outputs": [
    {
     "name": "stdout",
     "output_type": "stream",
     "text": [
      "[{'speaker': 0, 'elements': [{'type': 'text', 'value': 'Sean maloney', 'ts': 1.29, 'end_ts': 2.58, 'confidence': 1.0}, {'type': 'punct', 'value': '.'}]}]\n"
     ]
    }
   ],
   "source": [
    "print(mono)"
   ]
  },
  {
   "cell_type": "code",
   "execution_count": 138,
   "metadata": {
    "collapsed": true
   },
   "outputs": [],
   "source": [
    "stuff_1 = mono[0]"
   ]
  },
  {
   "cell_type": "code",
   "execution_count": 139,
   "metadata": {
    "collapsed": true
   },
   "outputs": [],
   "source": [
    "stuff_2 = stuff_1['elements']"
   ]
  },
  {
   "cell_type": "code",
   "execution_count": 140,
   "metadata": {
    "collapsed": true
   },
   "outputs": [],
   "source": [
    "stuff_3 = stuff_2[0]\n"
   ]
  },
  {
   "cell_type": "code",
   "execution_count": 146,
   "metadata": {},
   "outputs": [
    {
     "data": {
      "text/plain": [
       "['Sean maloney']"
      ]
     },
     "execution_count": 146,
     "metadata": {},
     "output_type": "execute_result"
    }
   ],
   "source": [
    "[stuff_3['value']]"
   ]
  },
  {
   "cell_type": "code",
   "execution_count": 149,
   "metadata": {},
   "outputs": [
    {
     "name": "stdout",
     "output_type": "stream",
     "text": [
      "          names\n",
      "0  Sean maloney\n"
     ]
    }
   ],
   "source": [
    "df= pd.DataFrame({'names': [stuff_3['value']]})\n",
    "print(df)"
   ]
  },
  {
   "cell_type": "code",
   "execution_count": 161,
   "metadata": {
    "collapsed": true
   },
   "outputs": [],
   "source": [
    "def speech_to_text(path, files):\n",
    "    for file in files:\n",
    "        out_dict = {}\n",
    "        f_path = f'{path}{file}'\n",
    "        out_dict = test_workflow_with_file(f_path)\n",
    "        mono = out_dict['monologues']\n",
    "        stuff_1 = mono[0]\n",
    "        stuff_2 = stuff_1['elements']\n",
    "        stuff_3 = stuff_2[0]\n",
    "        text = stuff_3['value']\n",
    "        df= pd.DataFrame({'names': [stuff_3['value']]})\n",
    "        print(df)\n",
    "        df.to_csv(f'{f_path}.csv')\n",
    "        \n",
    "        for index, col in df.iter():\n",
    "   print row['c1'], row['c2']\n",
    "\n",
    "\n",
    "    "
   ]
  },
  {
   "cell_type": "code",
   "execution_count": 162,
   "metadata": {},
   "outputs": [
    {
     "name": "stdout",
     "output_type": "stream",
     "text": [
      "['sean_voice.mp3', 'Cynthia.mp3']\n",
      "Submitting job with file\n",
      "200\n",
      "Job created\n",
      "Checking job transcription status: in_progress\n",
      "Trying in another 30 seconds\n",
      "Checking job transcription status: in_progress\n",
      "Trying in another 30 seconds\n",
      "Checking job transcription status: in_progress\n",
      "Trying in another 30 seconds\n",
      "Checking job transcription status: in_progress\n",
      "Trying in another 30 seconds\n",
      "Checking job transcription status: in_progress\n",
      "Trying in another 30 seconds\n",
      "Checking job transcription status: in_progress\n",
      "Trying in another 30 seconds\n",
      "Checking job transcription status: in_progress\n",
      "Trying in another 30 seconds\n",
      "Checking job transcription status: in_progress\n",
      "Trying in another 30 seconds\n",
      "Checking job transcription status: in_progress\n",
      "Trying in another 30 seconds\n",
      "Checking job transcription status: in_progress\n",
      "Trying in another 30 seconds\n",
      "Checking job transcription status: in_progress\n",
      "Trying in another 30 seconds\n",
      "Checking job transcription status: in_progress\n",
      "Trying in another 30 seconds\n",
      "Checking job transcription status: in_progress\n",
      "Trying in another 30 seconds\n",
      "Checking job transcription status: in_progress\n",
      "Trying in another 30 seconds\n",
      "Checking job transcription status: in_progress\n",
      "Trying in another 30 seconds\n",
      "Checking job transcription status: in_progress\n",
      "Trying in another 30 seconds\n",
      "Checking job transcription status: in_progress\n",
      "Trying in another 30 seconds\n",
      "Checking job transcription status: in_progress\n",
      "Trying in another 30 seconds\n",
      "Checking job transcription status: transcribed\n",
      "          names\n",
      "0  Sean maloney\n",
      "Submitting job with file\n",
      "200\n",
      "Job created\n",
      "Checking job transcription status: in_progress\n",
      "Trying in another 30 seconds\n",
      "Checking job transcription status: in_progress\n",
      "Trying in another 30 seconds\n",
      "Checking job transcription status: transcribed\n",
      "           names\n",
      "0  Cynthia nixon\n"
     ]
    }
   ],
   "source": [
    "path = '/Users/piupunia/Documents/HackMIT/voice_records/'\n",
    "files = os.listdir(\"/Users/piupunia/Documents/HackMIT/voice_records/\")\n",
    "files.remove('.DS_Store')\n",
    "print(files)\n",
    "speech_to_text(path, files)\n"
   ]
  },
  {
   "cell_type": "code",
   "execution_count": null,
   "metadata": {
    "collapsed": true
   },
   "outputs": [],
   "source": []
  }
 ],
 "metadata": {
  "kernelspec": {
   "display_name": "Python 3",
   "language": "python",
   "name": "python3"
  },
  "language_info": {
   "codemirror_mode": {
    "name": "ipython",
    "version": 3
   },
   "file_extension": ".py",
   "mimetype": "text/x-python",
   "name": "python",
   "nbconvert_exporter": "python",
   "pygments_lexer": "ipython3",
   "version": "3.6.3"
  }
 },
 "nbformat": 4,
 "nbformat_minor": 2
}
