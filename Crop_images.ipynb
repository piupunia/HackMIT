{
 "cells": [
  {
   "cell_type": "code",
   "execution_count": 1,
   "metadata": {
    "collapsed": true
   },
   "outputs": [],
   "source": [
    "from __future__ import print_function, division\n",
    "import os\n",
    "import torch\n",
    "import pandas as pd\n",
    "from skimage import io, transform\n",
    "import numpy as np\n",
    "import matplotlib.pyplot as plt\n",
    "from torch.utils.data import Dataset, DataLoader\n",
    "from torchvision import transforms, utils\n",
    "\n",
    "# Ignore warnings\n",
    "import warnings\n",
    "warnings.filterwarnings(\"ignore\")\n",
    "\n",
    "plt.ion()   # interactive mode"
   ]
  },
  {
   "cell_type": "code",
   "execution_count": 2,
   "metadata": {
    "collapsed": true
   },
   "outputs": [],
   "source": [
    "image = \"/Users/piupunia/Documents/HackMIT/img.png\""
   ]
  },
  {
   "cell_type": "code",
   "execution_count": 3,
   "metadata": {},
   "outputs": [],
   "source": [
    "from PIL import Image"
   ]
  },
  {
   "cell_type": "code",
   "execution_count": 55,
   "metadata": {},
   "outputs": [
    {
     "name": "stdout",
     "output_type": "stream",
     "text": [
      "2554 972\n"
     ]
    }
   ],
   "source": [
    "original = Image.open(image)\n",
    "width, height = original.size\n",
    "print(width,height)\n",
    "cropped_example = original.crop((195, 112, 358, 155))"
   ]
  },
  {
   "cell_type": "code",
   "execution_count": 56,
   "metadata": {},
   "outputs": [],
   "source": [
    "cropped_example.show()"
   ]
  },
  {
   "cell_type": "code",
   "execution_count": 12,
   "metadata": {
    "collapsed": true
   },
   "outputs": [],
   "source": [
    "original.show()"
   ]
  },
  {
   "cell_type": "code",
   "execution_count": 63,
   "metadata": {
    "collapsed": true
   },
   "outputs": [],
   "source": [
    "cropped_example_2 = original.crop((360, 112, 520, 155))"
   ]
  },
  {
   "cell_type": "code",
   "execution_count": 64,
   "metadata": {
    "collapsed": true
   },
   "outputs": [],
   "source": [
    "cropped_example_2.show()"
   ]
  },
  {
   "cell_type": "code",
   "execution_count": 72,
   "metadata": {},
   "outputs": [],
   "source": [
    "left = 195\n",
    "top = 112\n",
    "right = 358\n",
    "bottom = 155\n",
    "for i in range(5):\n",
    "    cropped_image = original.crop((left, top, right, bottom))\n",
    "    #cropped_image.save(\"/Users/piupunia/Documents/HackMIT/cropped_images/\"+\"img\"+f\"{i}\"+\".jpg\",\"JPEG\")\n",
    "    m = cropped_image.convert(\"RGB\")\n",
    "    #cropped_image.save(\"/Users/piupunia/Documents/HackMIT/cropped_images/\"+\"img\"+f\"{i}\"+\".jpg\", \"JPEG\",optimize=True, progressive=True)\n",
    "    m.save(\"/Users/piupunia/Documents/HackMIT/cropped_images/\"+\"img\"+f\"{i}\"+\".jpg\")\n",
    "    left += 158\n",
    "    right += 158\n",
    "    "
   ]
  },
  {
   "cell_type": "code",
   "execution_count": null,
   "metadata": {
    "collapsed": true
   },
   "outputs": [],
   "source": []
  }
 ],
 "metadata": {
  "kernelspec": {
   "display_name": "Python 3",
   "language": "python",
   "name": "python3"
  },
  "language_info": {
   "codemirror_mode": {
    "name": "ipython",
    "version": 3
   },
   "file_extension": ".py",
   "mimetype": "text/x-python",
   "name": "python",
   "nbconvert_exporter": "python",
   "pygments_lexer": "ipython3",
   "version": "3.6.3"
  }
 },
 "nbformat": 4,
 "nbformat_minor": 2
}
