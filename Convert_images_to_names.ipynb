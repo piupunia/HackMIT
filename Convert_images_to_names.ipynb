{
 "cells": [
  {
   "cell_type": "code",
   "execution_count": 109,
   "metadata": {
    "collapsed": true
   },
   "outputs": [],
   "source": [
    "import os\n",
    "os.environ[\"GOOGLE_APPLICATION_CREDENTIALS\"]= \"<key>\"\n",
    "import io\n",
    "import os\n",
    "import pandas as pd\n",
    "import os.path\n"
   ]
  },
  {
   "cell_type": "code",
   "execution_count": 1,
   "metadata": {
    "collapsed": true
   },
   "outputs": [],
   "source": [
    "import base64\n",
    "import json\n",
    "import os\n",
    "\n",
    "from google.cloud import pubsub_v1\n",
    "from google.cloud import storage\n",
    "from google.cloud import translate\n",
    "from google.cloud import vision\n"
   ]
  },
  {
   "cell_type": "code",
   "execution_count": 102,
   "metadata": {
    "collapsed": true
   },
   "outputs": [],
   "source": [
    "def detect_text(path,names):\n",
    "    \"\"\"Detects text in the file.\"\"\"\n",
    "    client = vision.ImageAnnotatorClient()\n",
    "\n",
    "    with io.open(path, 'rb') as image_file:\n",
    "        content = image_file.read()\n",
    "\n",
    "    image = vision.types.Image(content=content)\n",
    "\n",
    "    response = client.text_detection(image=image)\n",
    "    texts = response.text_annotations\n",
    "    #print('Texts:')\n",
    "    \n",
    "    i=0\n",
    "    for text in texts:\n",
    "        \n",
    "        #print('\\n\"{}\"'.format(text.description))\n",
    "        \n",
    "        if i==0:\n",
    "            name = text.description\n",
    "            names.append((name.replace('\\n', \" \")).strip() )\n",
    "        \n",
    "        i+=1"
   ]
  },
  {
   "cell_type": "code",
   "execution_count": 112,
   "metadata": {
    "collapsed": true
   },
   "outputs": [],
   "source": [
    "def convert_images_to_names(path_folder):\n",
    "    \n",
    "    vision_client = vision.ImageAnnotatorClient()\n",
    "    translate_client = translate.Client()\n",
    "    publisher = pubsub_v1.PublisherClient()\n",
    "    storage_client = storage.Client()\n",
    "    \n",
    "    names = []\n",
    "    \n",
    "    \n",
    "    #images = os.listdir(\"/Users/piupunia/Documents/HackMIT/cropped_images/\")\n",
    "    #img_path = \"/Users/piupunia/Documents/HackMIT/cropped_images/\"\n",
    "    \n",
    "    images = os.listdir(path_folder)\n",
    "    img_path = path_folder\n",
    "    \n",
    "    for img in images:\n",
    "        detect_text(f'{img_path}/{img}',names)\n",
    "    \n",
    "    df = pd.DataFrame(names)\n",
    "    df.columns = ['names']\n",
    "    \n",
    "    destination_path = f\"{img_path}names.csv\"\n",
    "    if(not os.path.exists(destination_path)):\n",
    "        df.to_csv(destination_path, sep='\\t',index=False)\n"
   ]
  },
  {
   "cell_type": "code",
   "execution_count": 113,
   "metadata": {
    "collapsed": true
   },
   "outputs": [],
   "source": [
    "convert_images_to_names('/Users/piupunia/Documents/HackMIT/cropped_images/')"
   ]
  },
  {
   "cell_type": "code",
   "execution_count": null,
   "metadata": {
    "collapsed": true
   },
   "outputs": [],
   "source": [
    "\n"
   ]
  },
  {
   "cell_type": "code",
   "execution_count": 89,
   "metadata": {
    "collapsed": true
   },
   "outputs": [],
   "source": []
  },
  {
   "cell_type": "code",
   "execution_count": 95,
   "metadata": {
    "scrolled": true
   },
   "outputs": [
    {
     "name": "stdout",
     "output_type": "stream",
     "text": [
      "['img4.jpg', 'img3.jpg', 'img2.jpg', 'img0.jpg', 'img1.jpg']\n"
     ]
    }
   ],
   "source": []
  },
  {
   "cell_type": "code",
   "execution_count": 91,
   "metadata": {},
   "outputs": [
    {
     "name": "stdout",
     "output_type": "stream",
     "text": [
      "['Sean Patrick Maloney', 'Jumaane Williams', 'Kathy C. Hochul', 'Cynthia E Nixon', 'Andrew M. Cuomo']\n"
     ]
    }
   ],
   "source": []
  },
  {
   "cell_type": "code",
   "execution_count": 83,
   "metadata": {},
   "outputs": [
    {
     "name": "stdout",
     "output_type": "stream",
     "text": [
      "                  names\n",
      "0  Sean Patrick Maloney\n",
      "1      Jumaane Williams\n",
      "2       Kathy C. Hochul\n",
      "3       Cynthia E Nixon\n",
      "4       Andrew M. Cuomo\n"
     ]
    }
   ],
   "source": []
  },
  {
   "cell_type": "code",
   "execution_count": 85,
   "metadata": {
    "collapsed": true
   },
   "outputs": [],
   "source": []
  },
  {
   "cell_type": "code",
   "execution_count": null,
   "metadata": {
    "collapsed": true
   },
   "outputs": [],
   "source": []
  }
 ],
 "metadata": {
  "kernelspec": {
   "display_name": "Python 3",
   "language": "python",
   "name": "python3"
  },
  "language_info": {
   "codemirror_mode": {
    "name": "ipython",
    "version": 3
   },
   "file_extension": ".py",
   "mimetype": "text/x-python",
   "name": "python",
   "nbconvert_exporter": "python",
   "pygments_lexer": "ipython3",
   "version": "3.6.3"
  }
 },
 "nbformat": 4,
 "nbformat_minor": 2
}
