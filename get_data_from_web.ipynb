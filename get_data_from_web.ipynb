{
 "cells": [
  {
   "cell_type": "code",
   "execution_count": 331,
   "metadata": {
    "collapsed": true
   },
   "outputs": [],
   "source": [
    "import urllib\n",
    "from bs4 import BeautifulSoup\n",
    "import re\n",
    "import pandas as pd\n",
    "import os"
   ]
  },
  {
   "cell_type": "code",
   "execution_count": 332,
   "metadata": {},
   "outputs": [],
   "source": [
    "def scrape(name):\n",
    "    basic_page = 'http://www.ontheissues.org/'\n",
    "    first_name,second_name = name.split(\" \", 1)\n",
    "    print(first_name,second_name)\n",
    "    actual_name = f'{name[0]}'\n",
    "    quote_page = f'{basic_page}{first_name}_{second_name}.htm'\n",
    "    \n",
    "    if first_name == 'Sean':\n",
    "        quote_page = f'{basic_page}/NY/{first_name}_{second_name}.htm'\n",
    "        \n",
    "        \n",
    "    page = urllib.request.urlopen(quote_page)\n",
    "    soup = BeautifulSoup(page, 'html.parser')\n",
    "    topics = soup.find_all(string =re.compile(f\"{name} on\"))\n",
    "    top_topics = topics[1:4]\n",
    "    list_of_topics = []\n",
    "    \n",
    "    pattern = ' on '\n",
    "    for i in range(len(top_topics)):\n",
    "        top_topics[i]=top_topics[i].strip()\n",
    "        \n",
    "        temp = top_topics[i].split(pattern, 1)[1]\n",
    "        list_of_topics.append(temp)\n",
    "    \n",
    "    print(list_of_topics)\n",
    "    \n",
    "    if(len(soup.find_all(\"ul\"))>3):\n",
    "        paras = soup.find_all(\"ul\")[0:3]\n",
    "    else:\n",
    "        paras = soup.find_all(\"ul\")\n",
    "    \n",
    "    \n",
    "    \n",
    "    \n",
    "    topic_index = 0\n",
    "    \n",
    "    for para in paras:\n",
    "        \n",
    "        para = para.text\n",
    "        para = para.splitlines()\n",
    "        \n",
    "        bullets = []\n",
    "        for i in para:\n",
    "            if(i is not ''):\n",
    "                bullets.append(i.strip())\n",
    "            if(len(bullets)>=2):\n",
    "                break\n",
    "        \n",
    "        print(len(bullets))\n",
    "        \n",
    "        if(topic_index == 0):\n",
    "            df = pd.DataFrame({f'{list_of_topics[topic_index]}':bullets})\n",
    "        else:\n",
    "            df[f'{list_of_topics[topic_index]}'] = bullets\n",
    "        \n",
    "        topic_index+=1\n",
    "    \n",
    "    print(df) \n",
    "   \n",
    "    df.to_csv('/Users/piupunia/Documents/HackMIT/cropped_images/csv_files/'+f'{name}.csv')\n",
    "    \n",
    "    \n",
    "    \n",
    "    "
   ]
  },
  {
   "cell_type": "code",
   "execution_count": 333,
   "metadata": {},
   "outputs": [
    {
     "name": "stdout",
     "output_type": "stream",
     "text": [
      "Andrew Cuomo\n",
      "['Abortion', 'Budget & Economy', 'Civil Rights']\n",
      "2\n",
      "2\n",
      "2\n",
      "                                            Abortion  \\\n",
      "0  Codify state with federal law to allow 9th-mon...   \n",
      "1  Let women make decision: pregnancy, adoption, ...   \n",
      "\n",
      "                                    Budget & Economy  \\\n",
      "0  2015 Opportunity Agenda: cut $1.7B taxes; add ...   \n",
      "1  Economic Blueprint: growth via development pro...   \n",
      "\n",
      "                                        Civil Rights  \n",
      "0  Implement a default voter registration system....  \n",
      "1  Pay equity for women; stop pregnancy discrimin...  \n"
     ]
    }
   ],
   "source": [
    "scrape(\"Andrew Cuomo\")"
   ]
  },
  {
   "cell_type": "code",
   "execution_count": 338,
   "metadata": {
    "collapsed": true
   },
   "outputs": [],
   "source": [
    "name_file = pd.read_csv(\"/Users/piupunia/Documents/HackMIT/cropped_images/names.csv\")"
   ]
  },
  {
   "cell_type": "code",
   "execution_count": 339,
   "metadata": {
    "collapsed": true
   },
   "outputs": [],
   "source": [
    "list_names = name_file['names'].tolist()"
   ]
  },
  {
   "cell_type": "code",
   "execution_count": 340,
   "metadata": {},
   "outputs": [
    {
     "name": "stdout",
     "output_type": "stream",
     "text": [
      "['Sean Maloney', 'Cynthia Nixon', 'Andrew Cuomo']\n"
     ]
    }
   ],
   "source": [
    "print(list_names)"
   ]
  },
  {
   "cell_type": "code",
   "execution_count": 341,
   "metadata": {},
   "outputs": [
    {
     "name": "stdout",
     "output_type": "stream",
     "text": [
      "Sean Maloney\n",
      "['Abortion', 'Budget & Economy', 'Civil Rights']\n",
      "2\n",
      "2\n",
      "2\n",
      "                                            Abortion  \\\n",
      "0  Strong supporter of a woman's right to choose....   \n",
      "1           I consider myself pro-choice. (Sep 2012)   \n",
      "\n",
      "                                    Budget & Economy  \\\n",
      "0  Voted NO on prioritizing spending in case debt...   \n",
      "1     Supports federal stimulus spending. (Sep 2012)   \n",
      "\n",
      "                                        Civil Rights  \n",
      "0  Voted YES on reauthorizing the Violence Agains...  \n",
      "1  Endorsed as \"preferred\" by The Feminist Majori...  \n",
      "Cynthia Nixon\n",
      "['Abortion', 'Budget & Economy', 'Civil Rights']\n",
      "1\n",
      "1\n",
      "1\n",
      "                                            Abortion  \\\n",
      "0  Abortion is a fundamental right for all women....   \n",
      "\n",
      "                                    Budget & Economy  \\\n",
      "0  A budget bullies people when it shortchanges o...   \n",
      "\n",
      "                                        Civil Rights  \n",
      "0  History of pro-gay rights with established cre...  \n",
      "Andrew Cuomo\n",
      "['Abortion', 'Budget & Economy', 'Civil Rights']\n",
      "2\n",
      "2\n",
      "2\n",
      "                                            Abortion  \\\n",
      "0  Codify state with federal law to allow 9th-mon...   \n",
      "1  Let women make decision: pregnancy, adoption, ...   \n",
      "\n",
      "                                    Budget & Economy  \\\n",
      "0  2015 Opportunity Agenda: cut $1.7B taxes; add ...   \n",
      "1  Economic Blueprint: growth via development pro...   \n",
      "\n",
      "                                        Civil Rights  \n",
      "0  Implement a default voter registration system....  \n",
      "1  Pay equity for women; stop pregnancy discrimin...  \n"
     ]
    }
   ],
   "source": [
    "for name in list_names:\n",
    "    scrape(name)"
   ]
  },
  {
   "cell_type": "code",
   "execution_count": 182,
   "metadata": {},
   "outputs": [
    {
     "name": "stdout",
     "output_type": "stream",
     "text": [
      "[<img border=\"0\" src=\"../images/red_star.gif\"/>, <img border=\"0\" src=\"../images/red_star.gif\"/>, <img border=\"0\" src=\"../images/red_star.gif\"/>, <img border=\"0\" src=\"../images/red_star.gif\"/>, <img border=\"0\" src=\"../images/red_star.gif\"/>, <img border=\"0\" src=\"../images/red_star.gif\"/>, <img border=\"0\" src=\"../images/red_star.gif\"/>, <img border=\"0\" src=\"../images/red_star.gif\"/>, <img border=\"0\" src=\"../images/red_star.gif\"/>, <img border=\"0\" src=\"../images/red_star.gif\"/>, <img border=\"0\" src=\"../images/red_star.gif\"/>, <img border=\"0\" src=\"../images/red_star.gif\"/>, <img border=\"0\" src=\"../images/red_star.gif\"/>, <img border=\"0\" src=\"../images/red_star.gif\"/>, <img border=\"0\" src=\"../images/red_star.gif\"/>, <img border=\"0\" src=\"../images/red_star.gif\"/>, <img border=\"0\" src=\"../images/red_star.gif\"/>, <img border=\"0\" src=\"../images/red_star.gif\"/>, <img border=\"0\" src=\"../images/red_star.gif\"/>, <img border=\"0\" src=\"../images/red_star.gif\"/>, <img border=\"0\" src=\"../images/red_star.gif\"/>, <img border=\"0\" src=\"../images/red_star.gif\"/>, <img border=\"0\" src=\"../images/red_star.gif\"/>, <img border=\"0\" src=\"../images/red_star.gif\"/>, <img border=\"0\" src=\"../images/red_star.gif\"/>, <img border=\"0\" src=\"../images/red_star.gif\"/>]\n"
     ]
    }
   ],
   "source": []
  },
  {
   "cell_type": "code",
   "execution_count": 183,
   "metadata": {
    "collapsed": true
   },
   "outputs": [],
   "source": []
  },
  {
   "cell_type": "code",
   "execution_count": 184,
   "metadata": {},
   "outputs": [
    {
     "name": "stdout",
     "output_type": "stream",
     "text": [
      "<bound method Tag.find of <img border=\"0\" src=\"../images/red_star.gif\"/>>\n"
     ]
    }
   ],
   "source": []
  },
  {
   "cell_type": "code",
   "execution_count": 185,
   "metadata": {},
   "outputs": [
    {
     "name": "stdout",
     "output_type": "stream",
     "text": [
      "['\\n', <img border=\"0\" src=\"../images/red_star.gif\"/>]\n"
     ]
    }
   ],
   "source": []
  },
  {
   "cell_type": "code",
   "execution_count": 186,
   "metadata": {},
   "outputs": [
    {
     "data": {
      "text/plain": [
       "[]"
      ]
     },
     "execution_count": 186,
     "metadata": {},
     "output_type": "execute_result"
    }
   ],
   "source": []
  },
  {
   "cell_type": "code",
   "execution_count": null,
   "metadata": {
    "collapsed": true
   },
   "outputs": [],
   "source": [
    "\n",
    "    "
   ]
  },
  {
   "cell_type": "code",
   "execution_count": 187,
   "metadata": {},
   "outputs": [
    {
     "name": "stdout",
     "output_type": "stream",
     "text": [
      "['\\r\\nAndrew Cuomo on Abortion ', '\\r\\nAndrew Cuomo on Budget & Economy ', '\\r\\nAndrew Cuomo on Civil Rights ']\n",
      "['Andrew Cuomo on Abortion', 'Andrew Cuomo on Budget & Economy', 'Andrew Cuomo on Civil Rights']\n"
     ]
    }
   ],
   "source": []
  },
  {
   "cell_type": "code",
   "execution_count": 188,
   "metadata": {},
   "outputs": [
    {
     "name": "stdout",
     "output_type": "stream",
     "text": [
      "Abortion\n",
      "Budget & Economy\n",
      "Civil Rights\n",
      "['Abortion', 'Budget & Economy', 'Civil Rights']\n"
     ]
    }
   ],
   "source": []
  },
  {
   "cell_type": "code",
   "execution_count": 213,
   "metadata": {},
   "outputs": [
    {
     "name": "stdout",
     "output_type": "stream",
     "text": [
      "\n",
      "Implement a default voter registration system. (Jan 2016)\r\n",
      "    Pay equity for women; stop pregnancy discrimination. (Jan 2015)\r\n",
      "    Women's Equality Act: Shatter the glass ceiling. (Jan 2013)\r\n",
      "    Marriage equality for ALL New Yorkers. (Jan 2012)\r\n",
      "    $200M contract support to get 20% MWBE contracts. (Jan 2012)\r\n",
      "    Improved services to 2 million residents with disabilities. (Jan 2012)\r\n",
      "    Supports same-sex marriage and same rights of marriage. (Jul 2011)\r\n",
      "    Equal marriage rights for same-sex couples. (Jun 2011)\r\n",
      "    Marriage equality gains 1,000 federal and 700 state rights. (Nov 2010)\r\n",
      "    Require complying with MWBE reporting requirements. (Nov 2010)\r\n",
      "    Our housing stock remains largely segregated. (Oct 2003)\r\n",
      "    Opposes Amendment to prevent same sex marriage. (Aug 2010)\r\n",
      "\n"
     ]
    }
   ],
   "source": []
  },
  {
   "cell_type": "code",
   "execution_count": 196,
   "metadata": {
    "collapsed": true
   },
   "outputs": [],
   "source": []
  },
  {
   "cell_type": "code",
   "execution_count": 200,
   "metadata": {
    "collapsed": true
   },
   "outputs": [],
   "source": []
  },
  {
   "cell_type": "code",
   "execution_count": 205,
   "metadata": {},
   "outputs": [
    {
     "name": "stdout",
     "output_type": "stream",
     "text": [
      "5\n",
      "['', 'Codify state with federal law to allow 9th-month abortions. (May 2014)', '    Let women make decision: pregnancy, adoption, or abortion. (Jan 2013)', '    Fight for passage of the Reproductive Rights Act. (Nov 2010)', '    Supports federal abortion funding. (Aug 2010)']\n",
      "4\n"
     ]
    }
   ],
   "source": [
    "\n"
   ]
  },
  {
   "cell_type": "code",
   "execution_count": 206,
   "metadata": {},
   "outputs": [
    {
     "name": "stdout",
     "output_type": "stream",
     "text": [
      "                                                   0\n",
      "0  Codify state with federal law to allow 9th-mon...\n",
      "1      Let women make decision: pregnancy, adopti...\n",
      "2      Fight for passage of the Reproductive Righ...\n",
      "3      Supports federal abortion funding. (Aug 2010)\n"
     ]
    }
   ],
   "source": []
  },
  {
   "cell_type": "code",
   "execution_count": 209,
   "metadata": {
    "collapsed": true
   },
   "outputs": [],
   "source": []
  },
  {
   "cell_type": "code",
   "execution_count": 210,
   "metadata": {},
   "outputs": [
    {
     "name": "stdout",
     "output_type": "stream",
     "text": [
      "                                                   0\n",
      "0  Codify state with federal law to allow 9th-mon...\n",
      "1      Let women make decision: pregnancy, adopti...\n",
      "2      Fight for passage of the Reproductive Righ...\n",
      "3      Supports federal abortion funding. (Aug 2010)\n"
     ]
    }
   ],
   "source": []
  },
  {
   "cell_type": "code",
   "execution_count": null,
   "metadata": {
    "collapsed": true
   },
   "outputs": [],
   "source": []
  }
 ],
 "metadata": {
  "kernelspec": {
   "display_name": "Python 3",
   "language": "python",
   "name": "python3"
  },
  "language_info": {
   "codemirror_mode": {
    "name": "ipython",
    "version": 3
   },
   "file_extension": ".py",
   "mimetype": "text/x-python",
   "name": "python",
   "nbconvert_exporter": "python",
   "pygments_lexer": "ipython3",
   "version": "3.6.3"
  }
 },
 "nbformat": 4,
 "nbformat_minor": 2
}
