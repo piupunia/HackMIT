{
 "cells": [
  {
   "cell_type": "code",
   "execution_count": 40,
   "metadata": {
    "collapsed": true
   },
   "outputs": [],
   "source": [
    "import os\n",
    "import pandas as pd\n",
    "import base64\n",
    "import json\n",
    "import os\n",
    "\n",
    "\n",
    "import os\n",
    "os.environ[\"GOOGLE_APPLICATION_CREDENTIALS\"]= \"/Users/piupunia/Downloads/My First Project-927b75e2e97e.json\"\n",
    "import io\n",
    "import os\n",
    "import pandas as pd\n",
    "import os.path\n",
    "\n",
    "\n",
    "from google.cloud import pubsub_v1\n",
    "from google.cloud import storage\n",
    "from google.cloud import translate\n",
    "from google.cloud import vision\n",
    "from google.cloud import texttospeech"
   ]
  },
  {
   "cell_type": "code",
   "execution_count": 41,
   "metadata": {
    "collapsed": true
   },
   "outputs": [],
   "source": [
    "csv_path = '/Users/piupunia/Documents/HackMIT/cropped_images/csv_files/'\n",
    "csv_files = os.listdir('/Users/piupunia/Documents/HackMIT/cropped_images/csv_files/')"
   ]
  },
  {
   "cell_type": "code",
   "execution_count": 42,
   "metadata": {},
   "outputs": [],
   "source": [
    "csv_files.remove('.DS_Store')"
   ]
  },
  {
   "cell_type": "code",
   "execution_count": 43,
   "metadata": {},
   "outputs": [
    {
     "name": "stdout",
     "output_type": "stream",
     "text": [
      "['Andrew Cuomo.csv', 'Sean Maloney.csv', 'Cynthia Nixon.csv']\n"
     ]
    }
   ],
   "source": [
    "print(csv_files)"
   ]
  },
  {
   "cell_type": "code",
   "execution_count": 44,
   "metadata": {
    "collapsed": true
   },
   "outputs": [],
   "source": [
    "#df = pd.read_csv(\"/Users/piupunia/Documents/HackMIT/cropped_images/csv_files/\")"
   ]
  },
  {
   "cell_type": "code",
   "execution_count": 121,
   "metadata": {},
   "outputs": [],
   "source": [
    "def text_to_speech(path,csv_file):\n",
    "    df = pd.read_csv(f\"{path}{csv_file}\")\n",
    "    name = csv_file[:-3]\n",
    "    print(name)\n",
    "    print(\"list = \",list(df.head()))\n",
    "    for heading in list(df.head()):\n",
    "        if(heading != 'Unnamed: 0'):\n",
    "            dfList = df[f'{heading}'].tolist()\n",
    "            #print(\"lllll= \", dfList)\n",
    "            client = texttospeech.TextToSpeechClient()\n",
    "            i=0\n",
    "            \n",
    "            for bullet_point in dfList:\n",
    "                #print(type(bullet_point))\n",
    "                synthesis_input = texttospeech.types.SynthesisInput(text=bullet_point)\n",
    "                voice = texttospeech.types.VoiceSelectionParams(language_code='en-US',ssml_gender=texttospeech.enums.SsmlVoiceGender.NEUTRAL)\n",
    "                \n",
    "                audio_config = texttospeech.types.AudioConfig(audio_encoding=texttospeech.enums.AudioEncoding.MP3)\n",
    "                \n",
    "                response = client.synthesize_speech(synthesis_input, voice, audio_config)\n",
    "                \n",
    "                with open(f'{path}{name}{heading}{i}.mp3', 'wb') as out:\n",
    "                    # Write the response to the output file.\n",
    "                    out.write(response.audio_content)\n",
    "                    print(f'Audio content written to file {path}{name}{heading}{i}.mp3')\n",
    "                i+=1    \n",
    "    \n",
    "    \n",
    "        \n",
    "        #synthesis_input = texttospeech.types.SynthesisInput(text=f\"{b}\")\n",
    "        \n",
    "        \n",
    "    "
   ]
  },
  {
   "cell_type": "code",
   "execution_count": 122,
   "metadata": {},
   "outputs": [
    {
     "name": "stdout",
     "output_type": "stream",
     "text": [
      "Andrew Cuomo.csv\n",
      "Andrew Cuomo.\n",
      "list =  ['Unnamed: 0', 'Abortion', 'Budget & Economy', 'Civil Rights']\n",
      "Audio content written to file /Users/piupunia/Documents/HackMIT/cropped_images/csv_files/Andrew Cuomo.Abortion0.mp3\n",
      "Audio content written to file /Users/piupunia/Documents/HackMIT/cropped_images/csv_files/Andrew Cuomo.Abortion1.mp3\n",
      "Audio content written to file /Users/piupunia/Documents/HackMIT/cropped_images/csv_files/Andrew Cuomo.Budget & Economy0.mp3\n",
      "Audio content written to file /Users/piupunia/Documents/HackMIT/cropped_images/csv_files/Andrew Cuomo.Budget & Economy1.mp3\n",
      "Audio content written to file /Users/piupunia/Documents/HackMIT/cropped_images/csv_files/Andrew Cuomo.Civil Rights0.mp3\n",
      "Audio content written to file /Users/piupunia/Documents/HackMIT/cropped_images/csv_files/Andrew Cuomo.Civil Rights1.mp3\n",
      "Sean Maloney.csv\n",
      "Sean Maloney.\n",
      "list =  ['Unnamed: 0', 'Abortion', 'Budget & Economy', 'Civil Rights']\n",
      "Audio content written to file /Users/piupunia/Documents/HackMIT/cropped_images/csv_files/Sean Maloney.Abortion0.mp3\n",
      "Audio content written to file /Users/piupunia/Documents/HackMIT/cropped_images/csv_files/Sean Maloney.Abortion1.mp3\n",
      "Audio content written to file /Users/piupunia/Documents/HackMIT/cropped_images/csv_files/Sean Maloney.Budget & Economy0.mp3\n",
      "Audio content written to file /Users/piupunia/Documents/HackMIT/cropped_images/csv_files/Sean Maloney.Budget & Economy1.mp3\n",
      "Audio content written to file /Users/piupunia/Documents/HackMIT/cropped_images/csv_files/Sean Maloney.Civil Rights0.mp3\n",
      "Audio content written to file /Users/piupunia/Documents/HackMIT/cropped_images/csv_files/Sean Maloney.Civil Rights1.mp3\n",
      "Cynthia Nixon.csv\n",
      "Cynthia Nixon.\n",
      "list =  ['Unnamed: 0', 'Abortion', 'Budget & Economy', 'Civil Rights']\n",
      "Audio content written to file /Users/piupunia/Documents/HackMIT/cropped_images/csv_files/Cynthia Nixon.Abortion0.mp3\n",
      "Audio content written to file /Users/piupunia/Documents/HackMIT/cropped_images/csv_files/Cynthia Nixon.Budget & Economy0.mp3\n",
      "Audio content written to file /Users/piupunia/Documents/HackMIT/cropped_images/csv_files/Cynthia Nixon.Civil Rights0.mp3\n"
     ]
    }
   ],
   "source": [
    "for csv_f in csv_files:\n",
    "    print(csv_f)\n",
    "    text_to_speech(csv_path ,csv_f)\n",
    "    "
   ]
  },
  {
   "cell_type": "code",
   "execution_count": 47,
   "metadata": {},
   "outputs": [],
   "source": []
  },
  {
   "cell_type": "code",
   "execution_count": 48,
   "metadata": {
    "collapsed": true
   },
   "outputs": [],
   "source": []
  },
  {
   "cell_type": "code",
   "execution_count": 49,
   "metadata": {
    "collapsed": true
   },
   "outputs": [],
   "source": []
  },
  {
   "cell_type": "code",
   "execution_count": 50,
   "metadata": {
    "collapsed": true
   },
   "outputs": [],
   "source": []
  },
  {
   "cell_type": "code",
   "execution_count": 52,
   "metadata": {},
   "outputs": [],
   "source": []
  },
  {
   "cell_type": "code",
   "execution_count": 53,
   "metadata": {},
   "outputs": [
    {
     "name": "stdout",
     "output_type": "stream",
     "text": [
      "Audio content written to file \"output.mp3\"\n"
     ]
    }
   ],
   "source": []
  },
  {
   "cell_type": "code",
   "execution_count": null,
   "metadata": {
    "collapsed": true
   },
   "outputs": [],
   "source": []
  }
 ],
 "metadata": {
  "kernelspec": {
   "display_name": "Python 3",
   "language": "python",
   "name": "python3"
  },
  "language_info": {
   "codemirror_mode": {
    "name": "ipython",
    "version": 3
   },
   "file_extension": ".py",
   "mimetype": "text/x-python",
   "name": "python",
   "nbconvert_exporter": "python",
   "pygments_lexer": "ipython3",
   "version": "3.6.3"
  }
 },
 "nbformat": 4,
 "nbformat_minor": 2
}
